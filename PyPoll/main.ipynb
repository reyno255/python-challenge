{
 "cells": [
  {
   "cell_type": "code",
   "execution_count": 1,
   "metadata": {},
   "outputs": [],
   "source": [
    "import pandas as pd"
   ]
  },
  {
   "cell_type": "code",
   "execution_count": 2,
   "metadata": {},
   "outputs": [
    {
     "data": {
      "text/html": [
       "<div>\n",
       "<style scoped>\n",
       "    .dataframe tbody tr th:only-of-type {\n",
       "        vertical-align: middle;\n",
       "    }\n",
       "\n",
       "    .dataframe tbody tr th {\n",
       "        vertical-align: top;\n",
       "    }\n",
       "\n",
       "    .dataframe thead th {\n",
       "        text-align: right;\n",
       "    }\n",
       "</style>\n",
       "<table border=\"1\" class=\"dataframe\">\n",
       "  <thead>\n",
       "    <tr style=\"text-align: right;\">\n",
       "      <th></th>\n",
       "      <th>Voter ID</th>\n",
       "      <th>County</th>\n",
       "      <th>Candidate</th>\n",
       "    </tr>\n",
       "  </thead>\n",
       "  <tbody>\n",
       "    <tr>\n",
       "      <th>0</th>\n",
       "      <td>12864552</td>\n",
       "      <td>Marsh</td>\n",
       "      <td>Khan</td>\n",
       "    </tr>\n",
       "    <tr>\n",
       "      <th>1</th>\n",
       "      <td>17444633</td>\n",
       "      <td>Marsh</td>\n",
       "      <td>Correy</td>\n",
       "    </tr>\n",
       "    <tr>\n",
       "      <th>2</th>\n",
       "      <td>19330107</td>\n",
       "      <td>Marsh</td>\n",
       "      <td>Khan</td>\n",
       "    </tr>\n",
       "    <tr>\n",
       "      <th>3</th>\n",
       "      <td>19865775</td>\n",
       "      <td>Queen</td>\n",
       "      <td>Khan</td>\n",
       "    </tr>\n",
       "    <tr>\n",
       "      <th>4</th>\n",
       "      <td>11927875</td>\n",
       "      <td>Marsh</td>\n",
       "      <td>Khan</td>\n",
       "    </tr>\n",
       "    <tr>\n",
       "      <th>...</th>\n",
       "      <td>...</td>\n",
       "      <td>...</td>\n",
       "      <td>...</td>\n",
       "    </tr>\n",
       "    <tr>\n",
       "      <th>3520996</th>\n",
       "      <td>18050509</td>\n",
       "      <td>Marsh</td>\n",
       "      <td>Khan</td>\n",
       "    </tr>\n",
       "    <tr>\n",
       "      <th>3520997</th>\n",
       "      <td>13060332</td>\n",
       "      <td>Marsh</td>\n",
       "      <td>Khan</td>\n",
       "    </tr>\n",
       "    <tr>\n",
       "      <th>3520998</th>\n",
       "      <td>16754708</td>\n",
       "      <td>Queen</td>\n",
       "      <td>Khan</td>\n",
       "    </tr>\n",
       "    <tr>\n",
       "      <th>3520999</th>\n",
       "      <td>12083146</td>\n",
       "      <td>Queen</td>\n",
       "      <td>Khan</td>\n",
       "    </tr>\n",
       "    <tr>\n",
       "      <th>3521000</th>\n",
       "      <td>14526187</td>\n",
       "      <td>Queen</td>\n",
       "      <td>O'Tooley</td>\n",
       "    </tr>\n",
       "  </tbody>\n",
       "</table>\n",
       "<p>3521001 rows × 3 columns</p>\n",
       "</div>"
      ],
      "text/plain": [
       "         Voter ID County Candidate\n",
       "0        12864552  Marsh      Khan\n",
       "1        17444633  Marsh    Correy\n",
       "2        19330107  Marsh      Khan\n",
       "3        19865775  Queen      Khan\n",
       "4        11927875  Marsh      Khan\n",
       "...           ...    ...       ...\n",
       "3520996  18050509  Marsh      Khan\n",
       "3520997  13060332  Marsh      Khan\n",
       "3520998  16754708  Queen      Khan\n",
       "3520999  12083146  Queen      Khan\n",
       "3521000  14526187  Queen  O'Tooley\n",
       "\n",
       "[3521001 rows x 3 columns]"
      ]
     },
     "execution_count": 2,
     "metadata": {},
     "output_type": "execute_result"
    }
   ],
   "source": [
    "#import file into df\n",
    "csv_path = \"Resources/election_data.csv\"\n",
    "\n",
    "election_df = pd.read_csv(csv_path, low_memory=False)\n",
    "election_df"
   ]
  },
  {
   "cell_type": "code",
   "execution_count": 3,
   "metadata": {},
   "outputs": [],
   "source": [
    "#calc total votes\n",
    "total_votes = election_df.Candidate.count()\n",
    "#groupby candidate to get total votes by candidate, then sort descending\n",
    "votes_byCandidate = election_df.groupby(['Candidate']).count()[['Voter ID']].sort_values(by=\"Voter ID\",ascending=False)\n",
    "#calc % votes by candidate name\n",
    "perc_votes = (votes_byCandidate / total_votes * 100).round(0)\n"
   ]
  },
  {
   "cell_type": "code",
   "execution_count": 4,
   "metadata": {},
   "outputs": [
    {
     "name": "stdout",
     "output_type": "stream",
     "text": [
      "Election Results\n",
      "_____________________________________\n",
      "Total Votes: 3521001\n",
      "_____________________________________\n",
      "Khan: 63.0% (2218231)\n",
      "Correy: 20.0% (704200)\n",
      "Li: 14.0% (492940)\n",
      "O'Tooley: 3.0% (105630)\n",
      "_____________________________________\n",
      "Winner: Khan\n",
      "_____________________________________\n"
     ]
    }
   ],
   "source": [
    "#set up print statement\n",
    "print(\"Election Results\")\n",
    "print(\"_____________________________________\")\n",
    "print(f'Total Votes: {total_votes}')\n",
    "print(\"_____________________________________\")\n",
    "print(f'{votes_byCandidate.tail().index.values[0]}: {perc_votes.iloc[0,0]}% ({votes_byCandidate.iloc[0,0]})')\n",
    "print(f'{votes_byCandidate.tail().index.values[1]}: {perc_votes.iloc[1,0]}% ({votes_byCandidate.iloc[1,0]})')\n",
    "print(f'{votes_byCandidate.tail().index.values[2]}: {perc_votes.iloc[2,0]}% ({votes_byCandidate.iloc[2,0]})')\n",
    "print(f'{votes_byCandidate.tail().index.values[3]}: {perc_votes.iloc[3,0]}% ({votes_byCandidate.iloc[3,0]})')\n",
    "print(\"_____________________________________\")\n",
    "print(f'Winner: {votes_byCandidate.tail().index.values[0]}')\n",
    "print(\"_____________________________________\")"
   ]
  },
  {
   "cell_type": "code",
   "execution_count": 5,
   "metadata": {},
   "outputs": [],
   "source": [
    "#package and send print items to .txt file\n",
    "with open(\"Analysis/analysis.txt\",\"w\") as text_file:\n",
    "        print(\"Election Results\", file=text_file)\n",
    "        print(\"_____________________________________\", file=text_file)\n",
    "        print(f'Total Votes: {total_votes}', file=text_file)\n",
    "        print(\"_____________________________________\", file=text_file)\n",
    "        print(f'{votes_byCandidate.tail().index.values[0]}: {perc_votes.iloc[0,0]}% ({votes_byCandidate.iloc[0,0]})', file=text_file)\n",
    "        print(f'{votes_byCandidate.tail().index.values[1]}: {perc_votes.iloc[1,0]}% ({votes_byCandidate.iloc[1,0]})', file=text_file)\n",
    "        print(f'{votes_byCandidate.tail().index.values[2]}: {perc_votes.iloc[2,0]}% ({votes_byCandidate.iloc[2,0]})', file=text_file)\n",
    "        print(f'{votes_byCandidate.tail().index.values[3]}: {perc_votes.iloc[3,0]}% ({votes_byCandidate.iloc[3,0]})', file=text_file)\n",
    "        print(\"_____________________________________\", file=text_file)\n",
    "        print(f'Winner: {votes_byCandidate.tail().index.values[0]}', file=text_file)\n",
    "        print(\"_____________________________________\", file=text_file)"
   ]
  }
 ],
 "metadata": {
  "kernelspec": {
   "display_name": "Python 3",
   "language": "python",
   "name": "python3"
  },
  "language_info": {
   "codemirror_mode": {
    "name": "ipython",
    "version": 3
   },
   "file_extension": ".py",
   "mimetype": "text/x-python",
   "name": "python",
   "nbconvert_exporter": "python",
   "pygments_lexer": "ipython3",
   "version": "3.8.3"
  }
 },
 "nbformat": 4,
 "nbformat_minor": 4
}
